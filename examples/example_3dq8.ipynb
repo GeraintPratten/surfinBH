{
 "cells": [
  {
   "cell_type": "markdown",
   "metadata": {},
   "source": [
    "# Example usage of surfinBH package."
   ]
  },
  {
   "cell_type": "code",
   "execution_count": 1,
   "metadata": {},
   "outputs": [
    {
     "name": "stderr",
     "output_type": "stream",
     "text": [
      "/Users/vijay/opt/softs/anaconda2/lib/python2.7/site-packages/h5py/__init__.py:36: FutureWarning: Conversion of the second argument of issubdtype from `float` to `np.floating` is deprecated. In future, it will be treated as `np.float64 == np.dtype(float).type`.\n",
      "  from ._conv import register_converters as _register_converters\n"
     ]
    }
   ],
   "source": [
    "import sys\n",
    "import surfinBH"
   ]
  },
  {
   "cell_type": "code",
   "execution_count": 2,
   "metadata": {},
   "outputs": [],
   "source": [
    "fit_name = 'surfinBH3dq8'"
   ]
  },
  {
   "cell_type": "markdown",
   "metadata": {},
   "source": [
    "## Download fit data, this only needs to be done once"
   ]
  },
  {
   "cell_type": "code",
   "execution_count": 3,
   "metadata": {},
   "outputs": [],
   "source": [
    "surfinBH.DownloadData(fit_name)"
   ]
  },
  {
   "cell_type": "markdown",
   "metadata": {},
   "source": [
    "## Load the fit, this only needs to be done once at the start of a script"
   ]
  },
  {
   "cell_type": "code",
   "execution_count": 4,
   "metadata": {},
   "outputs": [
    {
     "name": "stdout",
     "output_type": "stream",
     "text": [
      "Loaded surfinBH3dq8 fit.\n"
     ]
    }
   ],
   "source": [
    "fit = surfinBH.LoadFits(fit_name)"
   ]
  },
  {
   "cell_type": "markdown",
   "metadata": {},
   "source": [
    "## Read the documentation"
   ]
  },
  {
   "cell_type": "code",
   "execution_count": 5,
   "metadata": {
    "scrolled": true
   },
   "outputs": [
    {
     "name": "stdout",
     "output_type": "stream",
     "text": [
      "Help on Fit3dq8 in module surfinBH._fit_evaluators.fit_3dq8 object:\n",
      "\n",
      "class Fit3dq8(surfinBH.surfinBH.SurFinBH)\n",
      " |  A class for the surfinBH3dq8 model presented in Varma et al., 2018, in prep.\n",
      " |  This model predicts the final mass mC, final spin chiC and final kick velocity\n",
      " |  velC, for the remnants of nonprecessing binary black hole systems.  The fits\n",
      " |  are done using Gaussian Process Regression (GPR) and also provide an error\n",
      " |  estimate along with the fit value.\n",
      " |  \n",
      " |  IMPORTANT NOTE: The kick vector is defined in the followin frame. The z-axis is\n",
      " |  along the orbital angular momentum. The x-axis is along the line of separation\n",
      " |  from the smaller BH to the larger BH at t=-100M, when t=0 occurs at the peak of\n",
      " |  the waveform. The y-axis completes the triad.\n",
      " |  \n",
      " |  Usage:\n",
      " |  \n",
      " |  import surfinBH\n",
      " |  \n",
      " |  fit_name = 'surfinBH3dq8'\n",
      " |  \n",
      " |  # Get data for the fit. This only needs to done **once, ever**.\n",
      " |  surfinBH.DownloadData(fit_name)\n",
      " |  \n",
      " |  # Load the fit. This only needs to be done **once** at the start of your script.\n",
      " |  fit = surfinBH.LoadFits(fit_name)\n",
      " |  \n",
      " |  # Mass ratio and component spins along orbital angular momentum direction\n",
      " |  q = 6.7\n",
      " |  chi1z = 0.74\n",
      " |  chi2z = -0.6\n",
      " |  x = [q, chi1z, chi2z]\n",
      " |  \n",
      " |  ## Evaluate the fits and GPR error estimate.\n",
      " |  \n",
      " |  # Final mass and its 1-sigma error etimate\n",
      " |  mC, mC_err_est = fit('mC', x)\n",
      " |  \n",
      " |  # Final spin and its 1-sigma error estimate\n",
      " |  chiCz, chiCz_err_est = fit('chiC', x)\n",
      " |  \n",
      " |  # Final kick vector and its 1-sigma error estimate\n",
      " |  # NOTE: velCz is zero for nonprecessing systems\n",
      " |  velC, velC_err_est = fit('velC', x)\n",
      " |  velCx, velCy = velC\n",
      " |  velCx_err_est, velCy_err_est = velC_err_est\n",
      " |  \n",
      " |  Method resolution order:\n",
      " |      Fit3dq8\n",
      " |      surfinBH.surfinBH.SurFinBH\n",
      " |      __builtin__.object\n",
      " |  \n",
      " |  Methods defined here:\n",
      " |  \n",
      " |  __call__(self, fit_key, x, **kwargs)\n",
      " |      Evaluates fits for the 3dq8 model.\n",
      " |      \n",
      " |      Transforms the input parameter to fit parameters before evaluating the fit.\n",
      " |      That is, maps from [q, chi1z, chi2z] to [np.log(q), chiHat, chi_a]\n",
      " |      chiHat is defined in Eq.(3) of 1508.07253.\n",
      " |      chi_a = (chi1z - chi2z)/2.\n",
      " |  \n",
      " |  __init__(self, name, **kwargs)\n",
      " |      #-------------------------------------------------------------------------\n",
      " |  \n",
      " |  load_fits(self, h5file)\n",
      " |      Loads fits from h5file and returns a dictionary of fits.\n",
      " |  \n",
      " |  ----------------------------------------------------------------------\n",
      " |  Methods inherited from surfinBH.surfinBH.SurFinBH:\n",
      " |  \n",
      " |  evaluate_fits(self, x, fit_key)\n",
      " |      Evaluates a particular fit by passing fit_key to self.fits\n",
      " |  \n",
      " |  load_scalar_fit(self, fit_key=None, h5file=None, fit_data=None)\n",
      " |      Loads a single fit\n",
      " |  \n",
      " |  load_vector_fit(self, fit_key, h5file)\n",
      " |      Loads a vector of fits\n",
      " |  \n",
      " |  ----------------------------------------------------------------------\n",
      " |  Data descriptors inherited from surfinBH.surfinBH.SurFinBH:\n",
      " |  \n",
      " |  __dict__\n",
      " |      dictionary for instance variables (if defined)\n",
      " |  \n",
      " |  __weakref__\n",
      " |      list of weak references to the object (if defined)\n",
      "\n"
     ]
    }
   ],
   "source": [
    "help(fit)"
   ]
  },
  {
   "cell_type": "markdown",
   "metadata": {},
   "source": [
    "## Evaluate the fits"
   ]
  },
  {
   "cell_type": "code",
   "execution_count": 6,
   "metadata": {},
   "outputs": [
    {
     "name": "stdout",
     "output_type": "stream",
     "text": [
      "0.9755948246635386 0.8252803051336776 1.3619682645194556e-05 -0.00012366316087957945\n",
      "0.00016477744655067896 0.0 2.2750466327545156e-05 4.098085091380365e-05\n"
     ]
    },
    {
     "name": "stderr",
     "output_type": "stream",
     "text": [
      "/Users/vijay/opt/softs/anaconda2/lib/python2.7/site-packages/sklearn/gaussian_process/gpr.py:335: UserWarning: Predicted variances smaller than 0. Setting those variances to 0.\n",
      "  warnings.warn(\"Predicted variances smaller than 0. \"\n"
     ]
    }
   ],
   "source": [
    "q = 6.7\n",
    "chi1z = 0.74\n",
    "chi2z = -0.6\n",
    "x = [q, chi1z, chi2z]\n",
    "\n",
    "## Evaluate the fits and GPR error estimate.\n",
    "\n",
    "# Final mass and its 1-sigma error etimate\n",
    "mC, mC_err_est = fit('mC', x)\n",
    " \n",
    "# Final spin and its 1-sigma error estimate\n",
    "chiCz, chiCz_err_est = fit('chiC', x)\n",
    "  \n",
    "# Final kick vector and its 1-sigma error estimate\n",
    "velC, velC_err_est = fit('velC', x)\n",
    "velCx, velCy = velC\n",
    "velCx_err_est, velCy_err_est = velC_err_est\n",
    "\n",
    "print mC, chiCz, velCx, velCy\n",
    "print mC_err_est, chiCz_err_est, velCx_err_est, velCy_err_est"
   ]
  },
  {
   "cell_type": "code",
   "execution_count": null,
   "metadata": {},
   "outputs": [],
   "source": []
  }
 ],
 "metadata": {
  "kernelspec": {
   "display_name": "Python 2",
   "language": "python",
   "name": "python2"
  },
  "language_info": {
   "codemirror_mode": {
    "name": "ipython",
    "version": 2
   },
   "file_extension": ".py",
   "mimetype": "text/x-python",
   "name": "python",
   "nbconvert_exporter": "python",
   "pygments_lexer": "ipython2",
   "version": "2.7.15"
  }
 },
 "nbformat": 4,
 "nbformat_minor": 2
}
