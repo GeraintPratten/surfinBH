{
 "cells": [
  {
   "cell_type": "markdown",
   "metadata": {},
   "source": [
    "# Example usage of surfinBH3dq8 fit."
   ]
  },
  {
   "cell_type": "code",
   "execution_count": 1,
   "metadata": {},
   "outputs": [
    {
     "name": "stderr",
     "output_type": "stream",
     "text": [
      "/Users/vijay/opt/softs/anaconda2/lib/python2.7/site-packages/h5py/__init__.py:36: FutureWarning: Conversion of the second argument of issubdtype from `float` to `np.floating` is deprecated. In future, it will be treated as `np.float64 == np.dtype(float).type`.\n",
      "  from ._conv import register_converters as _register_converters\n"
     ]
    }
   ],
   "source": [
    "import sys\n",
    "import surfinBH"
   ]
  },
  {
   "cell_type": "code",
   "execution_count": 2,
   "metadata": {},
   "outputs": [],
   "source": [
    "fit_name = 'surfinBH3dq8'"
   ]
  },
  {
   "cell_type": "markdown",
   "metadata": {},
   "source": [
    "## Download fit data, this only needs to be done once"
   ]
  },
  {
   "cell_type": "code",
   "execution_count": 3,
   "metadata": {},
   "outputs": [],
   "source": [
    "surfinBH.DownloadData(fit_name)"
   ]
  },
  {
   "cell_type": "markdown",
   "metadata": {},
   "source": [
    "## Load the fit, this only needs to be done once at the start of a script"
   ]
  },
  {
   "cell_type": "code",
   "execution_count": 4,
   "metadata": {},
   "outputs": [
    {
     "name": "stdout",
     "output_type": "stream",
     "text": [
      "Loaded surfinBH3dq8 fit.\n"
     ]
    }
   ],
   "source": [
    "fit = surfinBH.LoadFits(fit_name)"
   ]
  },
  {
   "cell_type": "markdown",
   "metadata": {},
   "source": [
    "## Read the documentation"
   ]
  },
  {
   "cell_type": "code",
   "execution_count": 5,
   "metadata": {
    "scrolled": true
   },
   "outputs": [
    {
     "name": "stdout",
     "output_type": "stream",
     "text": [
      "Help on Fit3dq8 in module surfinBH._fit_evaluators.fit_3dq8 object:\n",
      "\n",
      "class Fit3dq8(surfinBH.surfinBH.SurFinBH)\n",
      " |  A class for the surfinBH3dq8 model presented in Varma et al., 2018,\n",
      " |  in prep. This model predicts the final mass mC, final spin chiC and final\n",
      " |  kick velocity velC, for the remnants of nonprecessing binary black hole\n",
      " |  systems. The fits are done using Gaussian Process Regression (GPR) and\n",
      " |  also provide an error estimate along with the fit value.\n",
      " |  \n",
      " |  This model has been trained in the parameter space:\n",
      " |      q <= 8, |chiAz| <= 0.8, |chiBz| <= 0.8\n",
      " |  \n",
      " |  However, it extrapolates reasonably to:\n",
      " |      q <= 10, |chiAz| <= 1, |chiBz| <= 1\n",
      " |  \n",
      " |  See __call__ method for evaluation.\n",
      " |  \n",
      " |  Method resolution order:\n",
      " |      Fit3dq8\n",
      " |      surfinBH.surfinBH.SurFinBH\n",
      " |      __builtin__.object\n",
      " |  \n",
      " |  Methods defined here:\n",
      " |  \n",
      " |  __call__(self, fit_key, x, **kwargs)\n",
      " |      Evaluates the surfinBH3dq8 model.\n",
      " |      \n",
      " |      Arguments:\n",
      " |          fit_key:\n",
      " |              'mC', 'chiC' or 'velC', for remnant mass, spin and kick velocity,\n",
      " |              respectively.\n",
      " |      \n",
      " |          x:\n",
      " |              Array of [q, chiAz, chiBz], where q >= 1 is the mass ratio and\n",
      " |              chiAz (chiBz) is the dimensionless spin of the larger (smaller) BH\n",
      " |              along the z-direction.\n",
      " |      \n",
      " |      Returns:\n",
      " |          If fit_key='mC':\n",
      " |              returns mC, mC_err_est\n",
      " |              The value and 1-sigma error estimate in remnant mass.\n",
      " |          If fit_key='chiC':\n",
      " |              returns chiCz, chiCz_err_est:\n",
      " |              The value and 1-sigma error estimate in remnant spin along the\n",
      " |              z-direction.\n",
      " |          If fit_key='velC':\n",
      " |              returns [velCx, velCy], [velCx_err_est, velCy_err_est]:\n",
      " |              The value and 1-sigma error estimate in the in-plane remnant kick\n",
      " |              vector.\n",
      " |      \n",
      " |      The spins and kick are defined in the coorbital frame at t=-100 M from the\n",
      " |      peak of the waveform. This frame is defined as:\n",
      " |      The z-axis is along the orbital angular momentum direction of the binary.\n",
      " |      The x-axis is along the line of separation from the smaller BH to\n",
      " |          the larger BH at this time.\n",
      " |      The y-axis completes the triad.\n",
      " |      We obtain this frame from the waveform as defined in arxiv:1705.07089.\n",
      " |  \n",
      " |  __init__(self, name)\n",
      " |      #-------------------------------------------------------------------------\n",
      " |  \n",
      " |  ----------------------------------------------------------------------\n",
      " |  Data descriptors inherited from surfinBH.surfinBH.SurFinBH:\n",
      " |  \n",
      " |  __dict__\n",
      " |      dictionary for instance variables (if defined)\n",
      " |  \n",
      " |  __weakref__\n",
      " |      list of weak references to the object (if defined)\n",
      "\n"
     ]
    }
   ],
   "source": [
    "help(fit)"
   ]
  },
  {
   "cell_type": "markdown",
   "metadata": {},
   "source": [
    "## Evaluate the fits"
   ]
  },
  {
   "cell_type": "code",
   "execution_count": 6,
   "metadata": {},
   "outputs": [
    {
     "name": "stdout",
     "output_type": "stream",
     "text": [
      "mC=9.756e-01 mC_err_est=1.648e-04\n",
      "chiCz=8.253e-01 chiCz_err_est=7.871e-05\n",
      "velC=[-5.894e-05,-8.398e-05,0] velC_err_est=[1.945e-05,2.148e-05,0]\n"
     ]
    }
   ],
   "source": [
    "q = 6.7\n",
    "chi1z = 0.74\n",
    "chi2z = -0.6\n",
    "x = [q, chi1z, chi2z]\n",
    "\n",
    "## Evaluate the fits and GPR error estimate.\n",
    "\n",
    "# Final mass and its 1-sigma error etimate\n",
    "mC, mC_err_est = fit('mC', x)\n",
    " \n",
    "# Final spin and its 1-sigma error estimate\n",
    "chiCz, chiCz_err_est = fit('chiC', x)\n",
    "  \n",
    "# Final kick vector and its 1-sigma error estimate\n",
    "velC, velC_err_est = fit('velC', x)\n",
    "velCx, velCy = velC\n",
    "velCx_err_est, velCy_err_est = velC_err_est\n",
    "\n",
    "print('mC=%.3e mC_err_est=%.3e'%(mC, mC_err_est))\n",
    "print('chiCz=%.3e chiCz_err_est=%.3e'%(chiCz, chiCz_err_est))\n",
    "print('velC=[%.3e,%.3e,0] velC_err_est=[%.3e,%.3e,0]'%(velCx, velCy, velCx_err_est,\n",
    "                                                       velCy_err_est))\n"
   ]
  },
  {
   "cell_type": "code",
   "execution_count": null,
   "metadata": {},
   "outputs": [],
   "source": []
  }
 ],
 "metadata": {
  "kernelspec": {
   "display_name": "Python 2",
   "language": "python",
   "name": "python2"
  },
  "language_info": {
   "codemirror_mode": {
    "name": "ipython",
    "version": 2
   },
   "file_extension": ".py",
   "mimetype": "text/x-python",
   "name": "python",
   "nbconvert_exporter": "python",
   "pygments_lexer": "ipython2",
   "version": "2.7.15"
  }
 },
 "nbformat": 4,
 "nbformat_minor": 2
}
