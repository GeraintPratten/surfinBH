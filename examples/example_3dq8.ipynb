{
 "cells": [
  {
   "cell_type": "markdown",
   "metadata": {},
   "source": [
    "# Example usage of surfinBH3dq8 fit."
   ]
  },
  {
   "cell_type": "code",
   "execution_count": 1,
   "metadata": {},
   "outputs": [
    {
     "name": "stderr",
     "output_type": "stream",
     "text": [
      "/Users/vijay/opt/softs/anaconda2/lib/python2.7/site-packages/h5py/__init__.py:36: FutureWarning: Conversion of the second argument of issubdtype from `float` to `np.floating` is deprecated. In future, it will be treated as `np.float64 == np.dtype(float).type`.\n",
      "  from ._conv import register_converters as _register_converters\n"
     ]
    }
   ],
   "source": [
    "import surfinBH"
   ]
  },
  {
   "cell_type": "code",
   "execution_count": 2,
   "metadata": {},
   "outputs": [],
   "source": [
    "fit_name = 'surfinBH3dq8'"
   ]
  },
  {
   "cell_type": "markdown",
   "metadata": {},
   "source": [
    "## Load the fit, this only needs to be done once at the start of a script"
   ]
  },
  {
   "cell_type": "code",
   "execution_count": 3,
   "metadata": {},
   "outputs": [
    {
     "name": "stdout",
     "output_type": "stream",
     "text": [
      "Loaded surfinBH3dq8 fit.\n"
     ]
    }
   ],
   "source": [
    "fit = surfinBH.LoadFits(fit_name)"
   ]
  },
  {
   "cell_type": "markdown",
   "metadata": {},
   "source": [
    "## Read the documentation"
   ]
  },
  {
   "cell_type": "code",
   "execution_count": 4,
   "metadata": {
    "scrolled": true
   },
   "outputs": [
    {
     "name": "stdout",
     "output_type": "stream",
     "text": [
      "Help on Fit3dq8 in module surfinBH._fit_evaluators.fit_3dq8 object:\n",
      "\n",
      "class Fit3dq8(surfinBH.surfinBH.SurFinBH)\n",
      " |  A class for the surfinBH3dq8 model presented in Varma et al., 2018,\n",
      " |  in prep. This model predicts the final mass mC, final spin chiC and final\n",
      " |  kick velocity velC, for the remnants of nonprecessing binary black hole\n",
      " |  systems. The fits are done using Gaussian Process Regression (GPR) and\n",
      " |  also provide an error estimate along with the fit value.\n",
      " |  \n",
      " |  This model has been trained in the parameter space:\n",
      " |      q <= 8, |chiAz| <= 0.8, |chiBz| <= 0.8\n",
      " |  \n",
      " |  However, it extrapolates reasonably to:\n",
      " |      q <= 10, |chiAz| <= 1, |chiBz| <= 1\n",
      " |  \n",
      " |  =========================================================================\n",
      " |  Usage:\n",
      " |  \n",
      " |  import surfinBH\n",
      " |  \n",
      " |  # Load the fit\n",
      " |  fit = surfinBH.LoadFits('surfinBH3dq8')\n",
      " |  \n",
      " |  # Define params\n",
      " |  q = 4.3             # Mass ratio q>=1\n",
      " |  chiA = [0,0,0.6]    # Spin of larger BH (z-direction only)\n",
      " |  chiB = [0,0,-0.7]   # Spin of smaller BH (z-direction only)\n",
      " |  \n",
      " |  ## Evaluate fits\n",
      " |  \n",
      " |  # remnant mass and 1-sigma error estimate\n",
      " |  mC, mC_err = fit.mC(q, chiA, chiB)\n",
      " |  \n",
      " |  # remnant spin and 1-sigma error estimate\n",
      " |  chiC, chiC_err = fit.chiC(q, chiA, chiB)\n",
      " |  \n",
      " |  # remnant recoil kick and 1-sigma error estimate\n",
      " |  velC, velC_err = fit.velC(q, chiA, chiB)\n",
      " |  \n",
      " |  # All of these together\n",
      " |  mC, chiC, velC, mC_err, chiC_err, velC_err = fit.all(q, chiA, chiB)\n",
      " |  \n",
      " |  The spin and kick vectors are defined in the coorbital frame at t=-100 M\n",
      " |  from the peak of the waveform. This frame is defined as:\n",
      " |  The z-axis is along the orbital angular momentum direction of the binary.\n",
      " |  The x-axis is along the line of separation from the smaller BH to\n",
      " |      the larger BH at this time.\n",
      " |  The y-axis completes the triad.\n",
      " |  We obtain this frame from the waveform as defined in arxiv:1705.07089.\n",
      " |  \n",
      " |  Method resolution order:\n",
      " |      Fit3dq8\n",
      " |      surfinBH.surfinBH.SurFinBH\n",
      " |      __builtin__.object\n",
      " |  \n",
      " |  Methods defined here:\n",
      " |  \n",
      " |  __init__(self, name)\n",
      " |      #-------------------------------------------------------------------------\n",
      " |  \n",
      " |  ----------------------------------------------------------------------\n",
      " |  Methods inherited from surfinBH.surfinBH.SurFinBH:\n",
      " |  \n",
      " |  all(self, *args, **kwargs)\n",
      " |      Evaluates fit and 1-sigma error estimate for remnant mass, spin\n",
      " |      and kick velocity.\n",
      " |      Returns:\n",
      " |          mC, chiC, velC, mC_err_est, chiC_err_est, velC_err_est\n",
      " |      \n",
      " |      chiC, velC, chiC_err_est and velC_err_est are arrays of size 3.\n",
      " |  \n",
      " |  chiC(self, *args, **kwargs)\n",
      " |      Evaluates fit and 1-sigma error estimate for remnant spin.\n",
      " |      Returns:\n",
      " |          chiC, chiC_err_est\n",
      " |      \n",
      " |      chiC and chiC_err_est are arrays of size 3.\n",
      " |  \n",
      " |  mC(self, *args, **kwargs)\n",
      " |      Evaluates fit and 1-sigma error estimate for remnant mass.\n",
      " |      Returns:\n",
      " |          mC, mC_err_est\n",
      " |  \n",
      " |  velC(self, *args, **kwargs)\n",
      " |      Evaluates fit and 1-sigma error estimate for remnant kick velocity.\n",
      " |      Returns:\n",
      " |          velC, velC_err_est\n",
      " |      \n",
      " |      velC and velC_err_est are arrays of size 3.\n",
      " |  \n",
      " |  ----------------------------------------------------------------------\n",
      " |  Data descriptors inherited from surfinBH.surfinBH.SurFinBH:\n",
      " |  \n",
      " |  __dict__\n",
      " |      dictionary for instance variables (if defined)\n",
      " |  \n",
      " |  __weakref__\n",
      " |      list of weak references to the object (if defined)\n",
      "\n"
     ]
    }
   ],
   "source": [
    "help(fit)"
   ]
  },
  {
   "cell_type": "markdown",
   "metadata": {},
   "source": [
    "## Evaluate the fits"
   ]
  },
  {
   "cell_type": "code",
   "execution_count": 5,
   "metadata": {},
   "outputs": [],
   "source": [
    "q = 4.3             # Mass ratio q>=1\n",
    "chiA = [0,0,0.6]    # Spin of larger BH (z-direction only)\n",
    "chiB = [0,0,-0.7]   # Spin of smaller BH (z-direction only)\n",
    "\n",
    "## Evaluate the fits and GPR error estimate.\n",
    "\n",
    "# remnant mass and 1-sigma error estimate\n",
    "mC, mC_err = fit.mC(q, chiA, chiB)\n",
    "\n",
    "# remnant spin and 1-sigma error estimate\n",
    "chiC, chiC_err = fit.chiC(q, chiA, chiB)\n",
    "\n",
    "# remnant recoil kick and 1-sigma error estimate\n",
    "velC, velC_err = fit.velC(q, chiA, chiB)\n",
    "\n",
    "# All of these together\n",
    "mC, chiC, velC, mC_err, chiC_err, velC_err = fit.all(q, chiA, chiB)"
   ]
  },
  {
   "cell_type": "code",
   "execution_count": null,
   "metadata": {},
   "outputs": [],
   "source": []
  }
 ],
 "metadata": {
  "kernelspec": {
   "display_name": "Python 2",
   "language": "python",
   "name": "python2"
  },
  "language_info": {
   "codemirror_mode": {
    "name": "ipython",
    "version": 2
   },
   "file_extension": ".py",
   "mimetype": "text/x-python",
   "name": "python",
   "nbconvert_exporter": "python",
   "pygments_lexer": "ipython2",
   "version": "2.7.15"
  }
 },
 "nbformat": 4,
 "nbformat_minor": 2
}
