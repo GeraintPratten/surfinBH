{
 "cells": [
  {
   "cell_type": "markdown",
   "metadata": {},
   "source": [
    "# Example usage of surfinBH package."
   ]
  },
  {
   "cell_type": "code",
   "execution_count": 1,
   "metadata": {},
   "outputs": [
    {
     "name": "stderr",
     "output_type": "stream",
     "text": [
      "/Users/vijay/opt/softs/anaconda2/lib/python2.7/site-packages/h5py/__init__.py:36: FutureWarning: Conversion of the second argument of issubdtype from `float` to `np.floating` is deprecated. In future, it will be treated as `np.float64 == np.dtype(float).type`.\n",
      "  from ._conv import register_converters as _register_converters\n"
     ]
    }
   ],
   "source": [
    "import sys\n",
    "import surfinBH"
   ]
  },
  {
   "cell_type": "code",
   "execution_count": 2,
   "metadata": {},
   "outputs": [],
   "source": [
    "fit_name = 'surfinBH7dq2'"
   ]
  },
  {
   "cell_type": "markdown",
   "metadata": {},
   "source": [
    "## Download fit data, this only needs to be done once"
   ]
  },
  {
   "cell_type": "code",
   "execution_count": 3,
   "metadata": {},
   "outputs": [],
   "source": [
    "surfinBH.DownloadData(fit_name)"
   ]
  },
  {
   "cell_type": "markdown",
   "metadata": {},
   "source": [
    "## Load the fit, this only needs to be done once at the start of a script"
   ]
  },
  {
   "cell_type": "code",
   "execution_count": 4,
   "metadata": {},
   "outputs": [
    {
     "name": "stdout",
     "output_type": "stream",
     "text": [
      "Loaded surfinBH7dq2 fit.\n"
     ]
    }
   ],
   "source": [
    "fit = surfinBH.LoadFits(fit_name)"
   ]
  },
  {
   "cell_type": "markdown",
   "metadata": {},
   "source": [
    "## Read the documentation"
   ]
  },
  {
   "cell_type": "code",
   "execution_count": 5,
   "metadata": {
    "scrolled": true
   },
   "outputs": [
    {
     "name": "stdout",
     "output_type": "stream",
     "text": [
      "Help on Fit7dq2 in module surfinBH._fit_evaluators.fit_7dq2 object:\n",
      "\n",
      "class Fit7dq2(surfinBH.surfinBH.SurFinBH)\n",
      " |  A class for the surfinBH7dq2 model presented in Varma et al., 2018, in prep.\n",
      " |  This model predicts the final mass mC, final spin chiC and final kick velocity\n",
      " |  velC, for the remnants of precessing binary black hole systems.  The fits are\n",
      " |  done using Gaussian Process Regression (GPR) and also provide an error estimate\n",
      " |  along with the fit value.\n",
      " |  \n",
      " |  IMPORTANT NOTE: The component spins, remnant spin and kick vectors are defined\n",
      " |  in the followin frame. The z-axis is along the orbital angular momentum at\n",
      " |  t=-100M, when t=0 occurs at the peak of the waveform. The x-axis is along the\n",
      " |  line of separation from the smaller BH to the larger BH at this time. The\n",
      " |  y-axis completes the triad.\n",
      " |  \n",
      " |  Usage:\n",
      " |  \n",
      " |  import surfinBH\n",
      " |  \n",
      " |  fit_name = 'surfinBH7dq2'\n",
      " |  \n",
      " |  # Get data for the fit. This only needs to done **once, ever**.\n",
      " |  surfinBH.DownloadData(fit_name)\n",
      " |  \n",
      " |  # Load the fit. This only needs to be done **once** at the start of your script.\n",
      " |  fit = surfinBH.LoadFits(fit_name)\n",
      " |  \n",
      " |  # Mass ratio and component spins\n",
      " |  q = 1.2\n",
      " |  chiA = [0.1, 0.2, 0.3]\n",
      " |  chiB = [0.2, -0.5, 0.3]\n",
      " |  x = [q] + chiA + chiB\n",
      " |  \n",
      " |  ## Evaluate the fits and GPR error estimate.\n",
      " |  \n",
      " |  # Final mass and its 1-sigma error etimate\n",
      " |  mC, mC_err_est = fit('mC', x)\n",
      " |  \n",
      " |  # Final spin vector and its 1-sigma error estimate\n",
      " |  chiC, chiC_err_est = fit('chiC', x)\n",
      " |  \n",
      " |  # Final kick vector and its 1-sigma error estimate\n",
      " |  velC, velC_err_est = fit('velC', x)\n",
      " |  \n",
      " |  Method resolution order:\n",
      " |      Fit7dq2\n",
      " |      surfinBH.surfinBH.SurFinBH\n",
      " |      __builtin__.object\n",
      " |  \n",
      " |  Methods defined here:\n",
      " |  \n",
      " |  __call__(self, fit_key, x, **kwargs)\n",
      " |      #-------------------------------------------------------------------------\n",
      " |  \n",
      " |  __init__(self, name, **kwargs)\n",
      " |      #-------------------------------------------------------------------------\n",
      " |  \n",
      " |  load_fits(self, h5file)\n",
      " |      Loads fits from h5file and returns a dictionary of fits.\n",
      " |  \n",
      " |  ----------------------------------------------------------------------\n",
      " |  Methods inherited from surfinBH.surfinBH.SurFinBH:\n",
      " |  \n",
      " |  evaluate_fits(self, x, fit_key)\n",
      " |      Evaluates a particular fit by passing fit_key to self.fits\n",
      " |  \n",
      " |  load_scalar_fit(self, fit_key=None, h5file=None, fit_data=None)\n",
      " |      Loads a single fit\n",
      " |  \n",
      " |  load_vector_fit(self, fit_key, h5file)\n",
      " |      Loads a vector of fits\n",
      " |  \n",
      " |  ----------------------------------------------------------------------\n",
      " |  Data descriptors inherited from surfinBH.surfinBH.SurFinBH:\n",
      " |  \n",
      " |  __dict__\n",
      " |      dictionary for instance variables (if defined)\n",
      " |  \n",
      " |  __weakref__\n",
      " |      list of weak references to the object (if defined)\n",
      "\n"
     ]
    }
   ],
   "source": [
    "help(fit)"
   ]
  },
  {
   "cell_type": "markdown",
   "metadata": {},
   "source": [
    "## Evaluate the fits"
   ]
  },
  {
   "cell_type": "code",
   "execution_count": 6,
   "metadata": {},
   "outputs": [
    {
     "name": "stdout",
     "output_type": "stream",
     "text": [
      "0.9423305899147032 0.00010275690045781838\n",
      "[ 0.05132385 -0.02486683  0.77008724] [0.00032226 0.00034565 0.00052999]\n",
      "[-0.00024941  0.00032128 -0.00279415] [2.90635950e-05 3.12869794e-05 6.52047178e-05]\n"
     ]
    }
   ],
   "source": [
    "# Mass ratio and component spins\n",
    "q = 1.2\n",
    "chiA = [0.1, 0.2, 0.3]\n",
    "chiB = [0.2, -0.5, 0.3]\n",
    "x = [q] + chiA + chiB\n",
    "\n",
    "# Final mass and its 1-sigma error etimate\n",
    "mC, mC_err_est = fit('mC', x)\n",
    "  \n",
    "# Final spin vector and its 1-sigma error estimate\n",
    "chiC, chiC_err_est = fit('chiC', x)\n",
    "  \n",
    "# Final kick vector and its 1-sigma error estimate\n",
    "velC, velC_err_est = fit('velC', x)\n",
    "\n",
    "print mC, mC_err_est\n",
    "print chiC, chiC_err_est\n",
    "print velC, velC_err_est"
   ]
  },
  {
   "cell_type": "code",
   "execution_count": null,
   "metadata": {},
   "outputs": [],
   "source": []
  }
 ],
 "metadata": {
  "kernelspec": {
   "display_name": "Python 2",
   "language": "python",
   "name": "python2"
  },
  "language_info": {
   "codemirror_mode": {
    "name": "ipython",
    "version": 2
   },
   "file_extension": ".py",
   "mimetype": "text/x-python",
   "name": "python",
   "nbconvert_exporter": "python",
   "pygments_lexer": "ipython2",
   "version": "2.7.15"
  }
 },
 "nbformat": 4,
 "nbformat_minor": 2
}
