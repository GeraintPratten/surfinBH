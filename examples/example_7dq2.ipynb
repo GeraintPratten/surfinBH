{
 "cells": [
  {
   "cell_type": "markdown",
   "metadata": {},
   "source": [
    "# Example usage of surfinBH7dq2 fit."
   ]
  },
  {
   "cell_type": "code",
   "execution_count": 1,
   "metadata": {},
   "outputs": [],
   "source": [
    "import sys\n",
    "import surfinBH"
   ]
  },
  {
   "cell_type": "code",
   "execution_count": 2,
   "metadata": {},
   "outputs": [],
   "source": [
    "fit_name = 'surfinBH7dq2'"
   ]
  },
  {
   "cell_type": "markdown",
   "metadata": {},
   "source": [
    "## Download fit data, this only needs to be done once"
   ]
  },
  {
   "cell_type": "code",
   "execution_count": 3,
   "metadata": {},
   "outputs": [],
   "source": [
    "surfinBH.DownloadData(fit_name)"
   ]
  },
  {
   "cell_type": "markdown",
   "metadata": {},
   "source": [
    "## Load the fit, this only needs to be done once at the start of a script"
   ]
  },
  {
   "cell_type": "code",
   "execution_count": 4,
   "metadata": {},
   "outputs": [
    {
     "name": "stdout",
     "output_type": "stream",
     "text": [
      "Loaded surfinBH7dq2 fit.\n"
     ]
    }
   ],
   "source": [
    "fit = surfinBH.LoadFits(fit_name)"
   ]
  },
  {
   "cell_type": "markdown",
   "metadata": {},
   "source": [
    "## Read the documentation"
   ]
  },
  {
   "cell_type": "code",
   "execution_count": 5,
   "metadata": {
    "scrolled": true
   },
   "outputs": [
    {
     "name": "stdout",
     "output_type": "stream",
     "text": [
      "Help on Fit7dq2 in module surfinBH._fit_evaluators.fit_7dq2 object:\n",
      "\n",
      "class Fit7dq2(surfinBH.surfinBH.SurFinBH)\n",
      " |  A class for the surfinBH7dq2 model presented in Varma et al., 2018, in prep.\n",
      " |  This model predicts the final mass mC, final spin chiC and final kick velocity\n",
      " |  velC, for the remnants of precessing binary black hole systems.  The fits are\n",
      " |  done using Gaussian Process Regression (GPR) and also provide an error estimate\n",
      " |  along with the fit value.\n",
      " |  \n",
      " |  This model has been trained in the parameter space:\n",
      " |      q <= 2, |chiA| <= 0.8, |chiB| <= 0.8\n",
      " |  \n",
      " |  However, it extrapolates reasonably to:\n",
      " |      q <= 3, |chiA| <= 1, |chiB| <= 1\n",
      " |  \n",
      " |  IMPORTANT NOTE: The component spins, remnant spin and kick vectors are defined\n",
      " |  in the followin frame. The z-axis is along the orbital angular momentum at\n",
      " |  t=-100M, when t=0 occurs at the peak of the waveform. The x-axis is along the\n",
      " |  line of separation from the smaller BH to the larger BH at this time. The\n",
      " |  y-axis completes the triad.\n",
      " |  \n",
      " |  Usage:\n",
      " |  \n",
      " |  import surfinBH\n",
      " |  \n",
      " |  fit_name = 'surfinBH7dq2'\n",
      " |  \n",
      " |  # Get data for the fit. This only needs to done **once, ever**.\n",
      " |  surfinBH.DownloadData(fit_name)\n",
      " |  \n",
      " |  # Load the fit. This only needs to be done **once** at the start of your script.\n",
      " |  fit = surfinBH.LoadFits(fit_name)\n",
      " |  \n",
      " |  # Mass ratio and component spins\n",
      " |  q = 1.2\n",
      " |  chiA = [0.1, 0.2, 0.3]\n",
      " |  chiB = [0.2, -0.5, 0.3]\n",
      " |  x = [q] + chiA + chiB\n",
      " |  \n",
      " |  ## Evaluate the fits and GPR error estimate.\n",
      " |  \n",
      " |  # Final mass and its 1-sigma error etimate\n",
      " |  mC, mC_err_est = fit('mC', x)\n",
      " |  \n",
      " |  # Final spin vector and its 1-sigma error estimate\n",
      " |  chiC, chiC_err_est = fit('chiC', x)\n",
      " |  \n",
      " |  # Final kick vector and its 1-sigma error estimate\n",
      " |  velC, velC_err_est = fit('velC', x)\n",
      " |  \n",
      " |  Method resolution order:\n",
      " |      Fit7dq2\n",
      " |      surfinBH.surfinBH.SurFinBH\n",
      " |      __builtin__.object\n",
      " |  \n",
      " |  Methods defined here:\n",
      " |  \n",
      " |  __call__(self, fit_key, x, **kwargs)\n",
      " |      #-------------------------------------------------------------------------\n",
      " |  \n",
      " |  __init__(self, name)\n",
      " |      #-------------------------------------------------------------------------\n",
      " |  \n",
      " |  check_param_limits(self, x)\n",
      " |      Checks that x is within allowed range of paramters.\n",
      " |      Raises a warning if outside self.soft_param_lims and\n",
      " |      raises an error if outside self.hard_param_lims.\n",
      " |      If these are None, skips the checks.\n",
      " |  \n",
      " |  get_fit_params(self, x, fit_key)\n",
      " |      Transforms the input parameter to fit parameters for the 7dq2 model.\n",
      " |      That is, maps from\n",
      " |      x = [q, chi1x, chi1y, chi1z, chi2x, chi2y, chi2z]\n",
      " |      fit_params = [np.log(q), chi1x, chi1y, chiHat, chi2x, chi2y, chi_a]\n",
      " |      \n",
      " |      chiHat is defined in Eq.(3) of 1508.07253, but with chi1z and chi2z instead\n",
      " |      of chi1 and chi2.\n",
      " |      chi_a = (chi1z - chi2z)/2.\n",
      " |  \n",
      " |  load_fits(self, h5file)\n",
      " |      Loads fits from h5file and returns a dictionary of fits.\n",
      " |  \n",
      " |  ----------------------------------------------------------------------\n",
      " |  Methods inherited from surfinBH.surfinBH.SurFinBH:\n",
      " |  \n",
      " |  evaluate_fits(self, x, fit_key)\n",
      " |      Evaluates a particular fit by passing fit_key to self.fits.\n",
      " |      Assumes self.get_fit_params() has been overriden.\n",
      " |  \n",
      " |  load_scalar_fit(self, fit_key=None, h5file=None, fit_data=None)\n",
      " |      Loads a single fit\n",
      " |  \n",
      " |  load_vector_fit(self, fit_key, h5file)\n",
      " |      Loads a vector of fits\n",
      " |  \n",
      " |  ----------------------------------------------------------------------\n",
      " |  Data descriptors inherited from surfinBH.surfinBH.SurFinBH:\n",
      " |  \n",
      " |  __dict__\n",
      " |      dictionary for instance variables (if defined)\n",
      " |  \n",
      " |  __weakref__\n",
      " |      list of weak references to the object (if defined)\n",
      "\n"
     ]
    }
   ],
   "source": [
    "help(fit)"
   ]
  },
  {
   "cell_type": "markdown",
   "metadata": {},
   "source": [
    "## Evaluate the fits"
   ]
  },
  {
   "cell_type": "code",
   "execution_count": 6,
   "metadata": {},
   "outputs": [
    {
     "name": "stdout",
     "output_type": "stream",
     "text": [
      "mC=9.439e-01 mC_err_est=1.126e-04\n",
      "chiC=[3.539e-02,1.059e-02,7.409e-01] chiC_err_est=[3.405e-04,3.583e-04,4.113e-04]\n",
      "velC=[4.640e-04,-1.352e-05,5.270e-03] velC_err_est=[3.423e-05,2.179e-05,6.643e-05]\n"
     ]
    }
   ],
   "source": [
    "# Mass ratio and component spins\n",
    "q = 1.2\n",
    "chiA = [0.5, 0.05, 0.3]\n",
    "chiB = [-0.5, -0.05, 0.1]\n",
    "x = [q] + chiA + chiB\n",
    "\n",
    "# Final mass and its 1-sigma error etimate\n",
    "mC, mC_err_est = fit('mC', x)\n",
    "  \n",
    "# Final spin vector and its 1-sigma error estimate\n",
    "chiC, chiC_err_est = fit('chiC', x)\n",
    "  \n",
    "# Final kick vector and its 1-sigma error estimate\n",
    "velC, velC_err_est = fit('velC', x)\n",
    "\n",
    "print('mC=%.3e mC_err_est=%.3e'%(mC, mC_err_est))\n",
    "print('chiC=[%.3e,%.3e,%.3e] chiC_err_est=[%.3e,%.3e,%.3e]'%(chiC[0], chiC[1], chiC[2],\n",
    "                                                             chiC_err_est[0], chiC_err_est[1],\n",
    "                                                             chiC_err_est[2]))\n",
    "print('velC=[%.3e,%.3e,%.3e] velC_err_est=[%.3e,%.3e,%.3e]'%(velC[0], velC[1], velC[2],\n",
    "                                                             velC_err_est[0], velC_err_est[1],\n",
    "                                                             velC_err_est[2]))"
   ]
  },
  {
   "cell_type": "code",
   "execution_count": null,
   "metadata": {},
   "outputs": [],
   "source": []
  }
 ],
 "metadata": {
  "kernelspec": {
   "display_name": "Python 2",
   "language": "python",
   "name": "python2"
  },
  "language_info": {
   "codemirror_mode": {
    "name": "ipython",
    "version": 2
   },
   "file_extension": ".py",
   "mimetype": "text/x-python",
   "name": "python",
   "nbconvert_exporter": "python",
   "pygments_lexer": "ipython2",
   "version": "2.7.15"
  }
 },
 "nbformat": 4,
 "nbformat_minor": 2
}
