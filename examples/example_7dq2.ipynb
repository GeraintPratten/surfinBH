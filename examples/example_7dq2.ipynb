{
 "cells": [
  {
   "cell_type": "markdown",
   "metadata": {},
   "source": [
    "# Example usage of surfinBH7dq2 fit."
   ]
  },
  {
   "cell_type": "code",
   "execution_count": 1,
   "metadata": {},
   "outputs": [
    {
     "name": "stderr",
     "output_type": "stream",
     "text": [
      "/Users/vijay/opt/softs/anaconda2/lib/python2.7/site-packages/h5py/__init__.py:36: FutureWarning: Conversion of the second argument of issubdtype from `float` to `np.floating` is deprecated. In future, it will be treated as `np.float64 == np.dtype(float).type`.\n",
      "  from ._conv import register_converters as _register_converters\n"
     ]
    }
   ],
   "source": [
    "import sys\n",
    "import surfinBH"
   ]
  },
  {
   "cell_type": "code",
   "execution_count": 2,
   "metadata": {},
   "outputs": [],
   "source": [
    "fit_name = 'surfinBH7dq2'"
   ]
  },
  {
   "cell_type": "markdown",
   "metadata": {},
   "source": [
    "## Download fit data, this only needs to be done once"
   ]
  },
  {
   "cell_type": "code",
   "execution_count": 3,
   "metadata": {},
   "outputs": [],
   "source": [
    "surfinBH.DownloadData(fit_name)"
   ]
  },
  {
   "cell_type": "markdown",
   "metadata": {},
   "source": [
    "## Load the fit, this only needs to be done once at the start of a script"
   ]
  },
  {
   "cell_type": "code",
   "execution_count": 4,
   "metadata": {},
   "outputs": [
    {
     "name": "stdout",
     "output_type": "stream",
     "text": [
      "Loaded surfinBH7dq2 fit.\n"
     ]
    }
   ],
   "source": [
    "fit = surfinBH.LoadFits(fit_name)"
   ]
  },
  {
   "cell_type": "markdown",
   "metadata": {},
   "source": [
    "## Read the documentation"
   ]
  },
  {
   "cell_type": "code",
   "execution_count": 5,
   "metadata": {
    "scrolled": true
   },
   "outputs": [
    {
     "name": "stdout",
     "output_type": "stream",
     "text": [
      "Help on Fit7dq2 in module surfinBH._fit_evaluators.fit_7dq2 object:\n",
      "\n",
      "class Fit7dq2(surfinBH.surfinBH.SurFinBH)\n",
      " |  A class for the surfinBH7dq2 model presented in Varma et al., 2018,\n",
      " |  in prep. This model predicts the final mass mC, final spin vector chiC and\n",
      " |  final kick velocity vector velC, for the remnants of precessing binary\n",
      " |  black hole systems.  The fits are done using Gaussian Process Regression\n",
      " |  (GPR) and also provide an error estimate along with the fit value.\n",
      " |  \n",
      " |  This model has been trained in the parameter space:\n",
      " |      q <= 2, |chiA| <= 0.8, |chiB| <= 0.8\n",
      " |  \n",
      " |  However, it extrapolates reasonably to:\n",
      " |      q <= 3, |chiA| <= 1, |chiB| <= 1\n",
      " |  \n",
      " |  See __call__ method for evaluation.\n",
      " |  \n",
      " |  Method resolution order:\n",
      " |      Fit7dq2\n",
      " |      surfinBH.surfinBH.SurFinBH\n",
      " |      __builtin__.object\n",
      " |  \n",
      " |  Methods defined here:\n",
      " |  \n",
      " |  __call__(self, fit_key, x, **kwargs)\n",
      " |      Evaluates the surfinBH7dq2 model.\n",
      " |      \n",
      " |      Arguments:\n",
      " |          fit_key:\n",
      " |              'mC', 'chiC' or 'velC', for remnant mass, spin vector and kick\n",
      " |              vector respectively.\n",
      " |      \n",
      " |          x:\n",
      " |              Array of [q, chiAx, chiAy, chiAz, chiBx, chiBy, chiBz], where q >=\n",
      " |              1 is the mass ratio and chiA (chiB) is the dimensionless spin of\n",
      " |              the larger (smaller) BH.\n",
      " |      \n",
      " |              By default, the spins are assumed to be the component spins at\n",
      " |              t=-100 M from the peak of the waveform, and in the coorbital frame,\n",
      " |              defined as:\n",
      " |              The z-axis is along the orbital angular momentum at t=-100M.\n",
      " |              The x-axis is along the line of separation from the smaller BH to\n",
      " |                  the larger BH at this time.\n",
      " |              The y-axis completes the triad.\n",
      " |              We obtain this frame from the waveform as defined in\n",
      " |              arxiv:1705.07089.\n",
      " |      \n",
      " |              If 'omega0' is given, instead the spins are assumed to be the\n",
      " |              component spins when the PN orbital frequency = omega0. The\n",
      " |              spins are assumed to be in the inertial frame, defined as:\n",
      " |              The z-axis is along the Newtonian orbital angular momentum when the\n",
      " |                  PN orbital frequency = omega0.\n",
      " |              The x-axis is along the line of separation from the smaller BH to\n",
      " |                  the larger BH at this frequency.\n",
      " |              The y-axis completes the triad.\n",
      " |              We obtain this frame from PN.\n",
      " |              Given the spins at omega0, we evolve the spins using PN until\n",
      " |              the orbital frequency = 0.018 M, then we further evolve the spins\n",
      " |              using the NRSur7dq2 model (arxiv:1705.07089) until t=-100M from the\n",
      " |              peak of the waveform.  Then we evaluate the fits using the spins at\n",
      " |              t=-100 M.  Finally, we transform the remnant spin and kick vectors\n",
      " |              back to the inertial frame defined above.\n",
      " |      \n",
      " |      Optional PN arguments:\n",
      " |      \n",
      " |          omega0:\n",
      " |              Initial dimensionless orbital frequency in units of 1/M, where M is\n",
      " |              the total mass. If this is given, the spins in x are assumed to be\n",
      " |              the component spins at this orbital frequency, and in the inertial\n",
      " |              frame as defined above. The returned remnant spin and kick vectors\n",
      " |              are also in the same frame.\n",
      " |              Default: None.\n",
      " |      \n",
      " |          PN_approximant:\n",
      " |              Approximant used to do the PN spin evolution. Choose from\n",
      " |              'SpinTaylorT1', 'SpinTaylorT4' or 'SpinTaylorT5'.\n",
      " |              Default: 'SpinTaylorT4'.\n",
      " |      \n",
      " |          PN_dt:\n",
      " |              Dimensionless time step size in units of M (total mass), used for\n",
      " |              the PN evolution. You may need to increase this if omega0 is very\n",
      " |              low.\n",
      " |              Default: 0.1\n",
      " |      \n",
      " |          PN_spin_order:\n",
      " |              Twice the PN order of spin effects. E.g., use 7 for 3.5PN.\n",
      " |              Default: 7\n",
      " |      \n",
      " |          PN_phase_order\n",
      " |              Twice the PN order in phase. E.g., use 7 for 3.5PN.\n",
      " |              Default: 7\n",
      " |      \n",
      " |      Returns:\n",
      " |          If fit_key='mC':\n",
      " |              returns mC, mC_err_est\n",
      " |              The value and 1-sigma error estimate in remnant mass.\n",
      " |          If fit_key='chiC':\n",
      " |              returns chiC, chiC_err_est\n",
      " |              The value and 1-sigma error estimate in remnant spin vector.\n",
      " |          If fit_key='velC':\n",
      " |              returns velC, velC_err_est\n",
      " |              The value and 1-sigma error estimate in remnant kick vector.\n",
      " |      \n",
      " |          By default, these vectors are defined in the coorbital frame at\n",
      " |              t=-100 M, as described above.\n",
      " |          If 'omega0' is not None, these are defined in the inertial frame at\n",
      " |              orbital frequency = omega0, as described above.\n",
      " |  \n",
      " |  __init__(self, name, load_nrsur=False)\n",
      " |      #-------------------------------------------------------------------------\n",
      " |  \n",
      " |  ----------------------------------------------------------------------\n",
      " |  Data descriptors inherited from surfinBH.surfinBH.SurFinBH:\n",
      " |  \n",
      " |  __dict__\n",
      " |      dictionary for instance variables (if defined)\n",
      " |  \n",
      " |  __weakref__\n",
      " |      list of weak references to the object (if defined)\n",
      "\n"
     ]
    }
   ],
   "source": [
    "help(fit)"
   ]
  },
  {
   "cell_type": "markdown",
   "metadata": {},
   "source": [
    "## Evaluate the fits (using spins at t=-100 M)"
   ]
  },
  {
   "cell_type": "code",
   "execution_count": 6,
   "metadata": {},
   "outputs": [
    {
     "name": "stdout",
     "output_type": "stream",
     "text": [
      "mC=9.439e-01 mC_err_est=1.126e-04\n",
      "chiC=[3.539e-02,1.059e-02,7.409e-01] chiC_err_est=[3.405e-04,3.583e-04,4.113e-04]\n",
      "velC=[4.640e-04,-1.352e-05,5.270e-03] velC_err_est=[3.423e-05,2.179e-05,6.643e-05]\n"
     ]
    }
   ],
   "source": [
    "# Note: The component spins, remnant spin and kick are all\n",
    "# assumed to be in the coorbital frame at t=-100M.\n",
    "\n",
    "# Mass ratio and component spins\n",
    "q = 1.2\n",
    "chiA = [0.5, 0.05, 0.3]\n",
    "chiB = [-0.5, -0.05, 0.1]\n",
    "x = [q] + chiA + chiB\n",
    "\n",
    "# Final mass and its 1-sigma error etimate\n",
    "mC, mC_err_est = fit('mC', x)\n",
    "  \n",
    "# Final spin vector and its 1-sigma error estimate\n",
    "chiC, chiC_err_est = fit('chiC', x)\n",
    "  \n",
    "# Final kick vector and its 1-sigma error estimate\n",
    "velC, velC_err_est = fit('velC', x)\n",
    "\n",
    "print('mC=%.3e mC_err_est=%.3e'%(mC, mC_err_est))\n",
    "print('chiC=[%.3e,%.3e,%.3e] chiC_err_est=[%.3e,%.3e,%.3e]'%(chiC[0], chiC[1], chiC[2],\n",
    "                                                             chiC_err_est[0], chiC_err_est[1],\n",
    "                                                             chiC_err_est[2]))\n",
    "print('velC=[%.3e,%.3e,%.3e] velC_err_est=[%.3e,%.3e,%.3e]'%(velC[0], velC[1], velC[2],\n",
    "                                                             velC_err_est[0], velC_err_est[1],\n",
    "                                                             velC_err_est[2]))"
   ]
  },
  {
   "cell_type": "markdown",
   "metadata": {},
   "source": [
    "# Evaluate the fits using spins at earlier frequencies"
   ]
  },
  {
   "cell_type": "code",
   "execution_count": 7,
   "metadata": {},
   "outputs": [
    {
     "name": "stdout",
     "output_type": "stream",
     "text": [
      "Loaded NRSur7dq2 waveform model\n",
      "mC=9.437e-01 mC_err_est=7.577e-05\n",
      "chiC=[5.412e-02,-1.411e-02,7.493e-01] chiC_err_est=[3.178e-04,3.412e-04,3.145e-04]\n",
      "velC=[5.362e-05,1.348e-04,-5.110e-03] velC_err_est=[1.934e-05,1.709e-05,3.629e-05]\n"
     ]
    }
   ],
   "source": [
    "# Note: The component spins, remnant spin and kick are all\n",
    "# assumed to be in the inertial frame defined at orbital frequency=omega0.\n",
    "\n",
    "# Initial dimensionless orbital frequency (in units of 1/M)\n",
    "omega0 = 7e-3\n",
    "\n",
    "# Final mass and its 1-sigma error etimate\n",
    "mC, mC_err_est = fit('mC', x, omega0=omega0)\n",
    "  \n",
    "# Final spin vector and its 1-sigma error estimate\n",
    "chiC, chiC_err_est = fit('chiC', x, omega0=omega0)\n",
    "  \n",
    "# Final kick vector and its 1-sigma error estimate\n",
    "velC, velC_err_est = fit('velC', x, omega0=omega0)\n",
    "\n",
    "print('mC=%.3e mC_err_est=%.3e'%(mC, mC_err_est))\n",
    "print('chiC=[%.3e,%.3e,%.3e] chiC_err_est=[%.3e,%.3e,%.3e]'%(chiC[0], chiC[1], chiC[2],\n",
    "                                                             chiC_err_est[0], chiC_err_est[1],\n",
    "                                                             chiC_err_est[2]))\n",
    "print('velC=[%.3e,%.3e,%.3e] velC_err_est=[%.3e,%.3e,%.3e]'%(velC[0], velC[1], velC[2],\n",
    "                                                             velC_err_est[0], velC_err_est[1],\n",
    "                                                             velC_err_est[2]))"
   ]
  },
  {
   "cell_type": "code",
   "execution_count": null,
   "metadata": {},
   "outputs": [],
   "source": []
  }
 ],
 "metadata": {
  "kernelspec": {
   "display_name": "Python 2",
   "language": "python",
   "name": "python2"
  },
  "language_info": {
   "codemirror_mode": {
    "name": "ipython",
    "version": 2
   },
   "file_extension": ".py",
   "mimetype": "text/x-python",
   "name": "python",
   "nbconvert_exporter": "python",
   "pygments_lexer": "ipython2",
   "version": "2.7.15"
  }
 },
 "nbformat": 4,
 "nbformat_minor": 2
}
