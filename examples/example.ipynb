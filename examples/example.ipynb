{
 "cells": [
  {
   "cell_type": "code",
   "execution_count": 1,
   "metadata": {},
   "outputs": [
    {
     "name": "stderr",
     "output_type": "stream",
     "text": [
      "/Users/vijay/opt/softs/anaconda2/lib/python2.7/site-packages/h5py/__init__.py:36: FutureWarning: Conversion of the second argument of issubdtype from `float` to `np.floating` is deprecated. In future, it will be treated as `np.float64 == np.dtype(float).type`.\n",
      "  from ._conv import register_converters as _register_converters\n"
     ]
    }
   ],
   "source": [
    "import sys\n",
    "sys.path.insert(0, '/Users/vijay/Work/Projects/Current/surfinBH')\n",
    "import surfinBH"
   ]
  },
  {
   "cell_type": "code",
   "execution_count": 2,
   "metadata": {},
   "outputs": [],
   "source": [
    "fit_3dq8 = surfinBH.LoadFits('3dq8')"
   ]
  },
  {
   "cell_type": "code",
   "execution_count": 5,
   "metadata": {},
   "outputs": [
    {
     "name": "stdout",
     "output_type": "stream",
     "text": [
      "(0.9873609284592729, 0.00012163917745553122)\n",
      "(0.41679855817624384, 0.0)\n",
      "(array([-0.00025954, -0.00019479]), array([2.7951575e-05, 3.3238598e-05]))\n"
     ]
    },
    {
     "name": "stderr",
     "output_type": "stream",
     "text": [
      "/Users/vijay/opt/softs/anaconda2/lib/python2.7/site-packages/sklearn/gaussian_process/gpr.py:335: UserWarning: Predicted variances smaller than 0. Setting those variances to 0.\n",
      "  warnings.warn(\"Predicted variances smaller than 0. \"\n"
     ]
    }
   ],
   "source": [
    "x = [2, 0.1, 0.2]\n",
    "print fit_3dq8('mC', x)\n",
    "print fit_3dq8('chiC', x)\n",
    "print fit_3dq8('velC', x)"
   ]
  },
  {
   "cell_type": "code",
   "execution_count": 6,
   "metadata": {},
   "outputs": [],
   "source": [
    "fit_7dq2 = surfinBH.LoadFits('7dq2')"
   ]
  },
  {
   "cell_type": "code",
   "execution_count": 7,
   "metadata": {},
   "outputs": [
    {
     "name": "stdout",
     "output_type": "stream",
     "text": [
      "(0.9482352897025914, 6.613872223072231e-05)\n",
      "(array([0.0445842 , 0.06445132, 0.72621949]), array([0.00029897, 0.00031937, 0.00048248]))\n",
      "(array([ 4.06584659e-06,  1.52769606e-04, -2.94360501e-04]), array([1.99284796e-05, 1.88640609e-05, 3.19881145e-05]))\n"
     ]
    }
   ],
   "source": [
    "x = [1.2, 0.1, 0.2, 0.1, 0.2, 0.1, 0.2]\n",
    "print fit_7dq2('mC', x)\n",
    "print fit_7dq2('chiC', x)\n",
    "print fit_7dq2('velC', x)"
   ]
  },
  {
   "cell_type": "code",
   "execution_count": null,
   "metadata": {},
   "outputs": [],
   "source": []
  }
 ],
 "metadata": {
  "kernelspec": {
   "display_name": "Python 2",
   "language": "python",
   "name": "python2"
  },
  "language_info": {
   "codemirror_mode": {
    "name": "ipython",
    "version": 2
   },
   "file_extension": ".py",
   "mimetype": "text/x-python",
   "name": "python",
   "nbconvert_exporter": "python",
   "pygments_lexer": "ipython2",
   "version": "2.7.15"
  }
 },
 "nbformat": 4,
 "nbformat_minor": 2
}
