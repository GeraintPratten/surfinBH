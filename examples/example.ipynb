{
 "cells": [
  {
   "cell_type": "markdown",
   "metadata": {},
   "source": [
    "# Example usage of surfinBH package."
   ]
  },
  {
   "cell_type": "code",
   "execution_count": 2,
   "metadata": {},
   "outputs": [
    {
     "name": "stderr",
     "output_type": "stream",
     "text": [
      "/Users/vijay/opt/softs/anaconda2/lib/python2.7/site-packages/h5py/__init__.py:36: FutureWarning: Conversion of the second argument of issubdtype from `float` to `np.floating` is deprecated. In future, it will be treated as `np.float64 == np.dtype(float).type`.\n",
      "  from ._conv import register_converters as _register_converters\n"
     ]
    }
   ],
   "source": [
    "import sys\n",
    "sys.path.insert(0, '/Users/vijay/Work/Projects/Current/surfinBH')\n",
    "import surfinBH"
   ]
  },
  {
   "cell_type": "markdown",
   "metadata": {},
   "source": [
    "## Download fit data, this only needs to be done once"
   ]
  },
  {
   "cell_type": "code",
   "execution_count": 7,
   "metadata": {},
   "outputs": [],
   "source": [
    "fit_name = '3dq8'\n",
    "surfinBH.DownloadData(fit_name)"
   ]
  },
  {
   "cell_type": "markdown",
   "metadata": {},
   "source": [
    "## Load the fit, this only needs to be done once at the start of a script"
   ]
  },
  {
   "cell_type": "code",
   "execution_count": 8,
   "metadata": {},
   "outputs": [],
   "source": [
    "fit_3dq8 = surfinBH.LoadFits(fit_name)"
   ]
  },
  {
   "cell_type": "markdown",
   "metadata": {},
   "source": [
    "## Read the documentation"
   ]
  },
  {
   "cell_type": "code",
   "execution_count": 9,
   "metadata": {
    "scrolled": true
   },
   "outputs": [
    {
     "name": "stdout",
     "output_type": "stream",
     "text": [
      "Help on Fit3dq8 in module surfinBH._fit_evaluators.fit_3dq8 object:\n",
      "\n",
      "class Fit3dq8(surfinBH.surfinBH.SurFinBH)\n",
      " |  A class for the 3dq8 surrogare final BH fits presented in Varma et al. 2018,\n",
      " |  in prep. This model predicts the final mass mC, final spin chiC and final\n",
      " |  kick velocity velC, for the remnants of nonprecessing binary black hole systems.\n",
      " |  The fits are done using Gaussian Process Regression (GPR) and also provide an\n",
      " |  error estimate along with the fit value.\n",
      " |  \n",
      " |  Usage:\n",
      " |  \n",
      " |  import surfinBH\n",
      " |  \n",
      " |  # First load the model\n",
      " |  fit_3dq8 = surfinBH.LoadFits('3dq8')\n",
      " |  \n",
      " |  # Mass ratio and component spins along orbital angular momentum direction\n",
      " |  q = 6.7\n",
      " |  chi1z = 0.74\n",
      " |  chi2z = -0.6\n",
      " |  x = [q, chi1z, chi2z]\n",
      " |  \n",
      " |  ## Evaluate the fits and GPR error estimate.\n",
      " |  \n",
      " |  # Final mass\n",
      " |  mC, mC_err_est = fit_3dq8('mC', x)\n",
      " |  \n",
      " |  # Final spin along orbital angular momentum direction\n",
      " |  chiCz, chiCz_err_est = fit_3dq8('chiC', x)\n",
      " |  \n",
      " |  # Final kick velocity (velCz is zero for nonprecessing systems)\n",
      " |  velC, velC_err_est = fit_3dq8('velC', x)\n",
      " |  velCx, velCy = velC\n",
      " |  velCx_err_est, velCy_err_est = velC_err_est\n",
      " |  \n",
      " |  Method resolution order:\n",
      " |      Fit3dq8\n",
      " |      surfinBH.surfinBH.SurFinBH\n",
      " |      __builtin__.object\n",
      " |  \n",
      " |  Methods defined here:\n",
      " |  \n",
      " |  __call__(self, fit_key, x, **kwargs)\n",
      " |      Evaluates fits for the 3dq8 model.\n",
      " |      \n",
      " |      Transforms the input parameter to fit parameters before evaluating the fit.\n",
      " |      That is, maps from [q, chi1z, chi2z] to [np.log(q), chiHat, chi_a]\n",
      " |      chiHat is defined in Eq.(3) of 1508.07253.\n",
      " |      chi_a = (chi1z - chi2z)/2.\n",
      " |  \n",
      " |  __init__(self, name, **kwargs)\n",
      " |      #-------------------------------------------------------------------------\n",
      " |  \n",
      " |  load_fits(self, h5file)\n",
      " |      Loads fits from h5file and returns a dictionary of fits.\n",
      " |  \n",
      " |  ----------------------------------------------------------------------\n",
      " |  Methods inherited from surfinBH.surfinBH.SurFinBH:\n",
      " |  \n",
      " |  evaluate_fits(self, x, fit_key)\n",
      " |      Evaluates a particular fit by passing fit_key to self.fits\n",
      " |  \n",
      " |  load_scalar_fit(self, fit_key=None, h5file=None, fit_data=None)\n",
      " |      Loads a single fit\n",
      " |  \n",
      " |  load_vector_fit(self, fit_key, h5file)\n",
      " |      Loads a vector of fits\n",
      " |  \n",
      " |  ----------------------------------------------------------------------\n",
      " |  Data descriptors inherited from surfinBH.surfinBH.SurFinBH:\n",
      " |  \n",
      " |  __dict__\n",
      " |      dictionary for instance variables (if defined)\n",
      " |  \n",
      " |  __weakref__\n",
      " |      list of weak references to the object (if defined)\n",
      "\n"
     ]
    }
   ],
   "source": [
    "help(fit_3dq8)"
   ]
  },
  {
   "cell_type": "markdown",
   "metadata": {},
   "source": [
    "## Evaluate the fits"
   ]
  },
  {
   "cell_type": "code",
   "execution_count": 11,
   "metadata": {},
   "outputs": [
    {
     "name": "stdout",
     "output_type": "stream",
     "text": [
      "0.9755948246635386 0.8252803051336776 1.3619682645194556e-05 -0.00012366316087957945\n",
      "0.00016477744655067896 0.0 2.2750466327545156e-05 4.098085091380365e-05\n"
     ]
    }
   ],
   "source": [
    "q = 6.7\n",
    "chi1z = 0.74\n",
    "chi2z = -0.6\n",
    "x = [q, chi1z, chi2z]\n",
    "\n",
    "## Evaluate the fits and GPR error estimate.\n",
    "\n",
    "# Final mass\n",
    "mC, mC_err_est = fit_3dq8('mC', x)\n",
    " \n",
    "# Final spin along orbital angular momentum direction\n",
    "chiCz, chiCz_err_est = fit_3dq8('chiC', x)\n",
    "  \n",
    "# Final kick velocity (velCz is zero for nonprecessing systems)\n",
    "velC, velC_err_est = fit_3dq8('velC', x)\n",
    "velCx, velCy = velC\n",
    "velCx_err_est, velCy_err_est = velC_err_est\n",
    "\n",
    "print mC, chiCz, velCx, velCy\n",
    "print mC_err_est, chiCz_err_est, velCx_err_est, velCy_err_est"
   ]
  },
  {
   "cell_type": "markdown",
   "metadata": {},
   "source": [
    "## Similarly for 7d fits"
   ]
  },
  {
   "cell_type": "code",
   "execution_count": 6,
   "metadata": {},
   "outputs": [],
   "source": [
    "fit_7dq2 = surfinBH.LoadFits('7dq2')"
   ]
  },
  {
   "cell_type": "code",
   "execution_count": 7,
   "metadata": {},
   "outputs": [
    {
     "name": "stdout",
     "output_type": "stream",
     "text": [
      "(0.9482352897025914, 6.613872223072231e-05)\n",
      "(array([0.0445842 , 0.06445132, 0.72621949]), array([0.00029897, 0.00031937, 0.00048248]))\n",
      "(array([ 4.06584659e-06,  1.52769606e-04, -2.94360501e-04]), array([1.99284796e-05, 1.88640609e-05, 3.19881145e-05]))\n"
     ]
    }
   ],
   "source": [
    "x = [1.2, 0.1, 0.2, 0.1, 0.2, 0.1, 0.2]\n",
    "print fit_7dq2('mC', x)\n",
    "print fit_7dq2('chiC', x)\n",
    "print fit_7dq2('velC', x)"
   ]
  },
  {
   "cell_type": "code",
   "execution_count": null,
   "metadata": {},
   "outputs": [],
   "source": []
  }
 ],
 "metadata": {
  "kernelspec": {
   "display_name": "Python 2",
   "language": "python",
   "name": "python2"
  },
  "language_info": {
   "codemirror_mode": {
    "name": "ipython",
    "version": 2
   },
   "file_extension": ".py",
   "mimetype": "text/x-python",
   "name": "python",
   "nbconvert_exporter": "python",
   "pygments_lexer": "ipython2",
   "version": "2.7.15"
  }
 },
 "nbformat": 4,
 "nbformat_minor": 2
}
